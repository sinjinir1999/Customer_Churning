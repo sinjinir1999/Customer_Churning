{
  "nbformat": 4,
  "nbformat_minor": 0,
  "metadata": {
    "colab": {
      "name": "Customer_Churn.ipynb",
      "provenance": []
    },
    "kernelspec": {
      "name": "python3",
      "display_name": "Python 3"
    },
    "accelerator": "GPU"
  },
  "cells": [
    {
      "cell_type": "code",
      "metadata": {
        "id": "mhNzlowf1bPe"
      },
      "source": [
        "import tensorflow as tf\r\n",
        "import numpy as np\r\n",
        "import matplotlib.pyplot as plt\r\n",
        "import pandas as pd"
      ],
      "execution_count": 1,
      "outputs": []
    },
    {
      "cell_type": "code",
      "metadata": {
        "id": "IE_hmDib2-WO"
      },
      "source": [
        "dataset=pd.read_csv('Churn_Modelling.csv')"
      ],
      "execution_count": 2,
      "outputs": []
    },
    {
      "cell_type": "code",
      "metadata": {
        "colab": {
          "base_uri": "https://localhost:8080/",
          "height": 224
        },
        "id": "nKEa9YVo3QBM",
        "outputId": "812fd295-f5f5-4f6d-de0d-30264bfe3029"
      },
      "source": [
        "dataset.head()"
      ],
      "execution_count": 3,
      "outputs": [
        {
          "output_type": "execute_result",
          "data": {
            "text/html": [
              "<div>\n",
              "<style scoped>\n",
              "    .dataframe tbody tr th:only-of-type {\n",
              "        vertical-align: middle;\n",
              "    }\n",
              "\n",
              "    .dataframe tbody tr th {\n",
              "        vertical-align: top;\n",
              "    }\n",
              "\n",
              "    .dataframe thead th {\n",
              "        text-align: right;\n",
              "    }\n",
              "</style>\n",
              "<table border=\"1\" class=\"dataframe\">\n",
              "  <thead>\n",
              "    <tr style=\"text-align: right;\">\n",
              "      <th></th>\n",
              "      <th>RowNumber</th>\n",
              "      <th>CustomerId</th>\n",
              "      <th>Surname</th>\n",
              "      <th>CreditScore</th>\n",
              "      <th>Geography</th>\n",
              "      <th>Gender</th>\n",
              "      <th>Age</th>\n",
              "      <th>Tenure</th>\n",
              "      <th>Balance</th>\n",
              "      <th>NumOfProducts</th>\n",
              "      <th>HasCrCard</th>\n",
              "      <th>IsActiveMember</th>\n",
              "      <th>EstimatedSalary</th>\n",
              "      <th>Exited</th>\n",
              "    </tr>\n",
              "  </thead>\n",
              "  <tbody>\n",
              "    <tr>\n",
              "      <th>0</th>\n",
              "      <td>1</td>\n",
              "      <td>15634602</td>\n",
              "      <td>Hargrave</td>\n",
              "      <td>619</td>\n",
              "      <td>France</td>\n",
              "      <td>Female</td>\n",
              "      <td>42</td>\n",
              "      <td>2</td>\n",
              "      <td>0.00</td>\n",
              "      <td>1</td>\n",
              "      <td>1</td>\n",
              "      <td>1</td>\n",
              "      <td>101348.88</td>\n",
              "      <td>1</td>\n",
              "    </tr>\n",
              "    <tr>\n",
              "      <th>1</th>\n",
              "      <td>2</td>\n",
              "      <td>15647311</td>\n",
              "      <td>Hill</td>\n",
              "      <td>608</td>\n",
              "      <td>Spain</td>\n",
              "      <td>Female</td>\n",
              "      <td>41</td>\n",
              "      <td>1</td>\n",
              "      <td>83807.86</td>\n",
              "      <td>1</td>\n",
              "      <td>0</td>\n",
              "      <td>1</td>\n",
              "      <td>112542.58</td>\n",
              "      <td>0</td>\n",
              "    </tr>\n",
              "    <tr>\n",
              "      <th>2</th>\n",
              "      <td>3</td>\n",
              "      <td>15619304</td>\n",
              "      <td>Onio</td>\n",
              "      <td>502</td>\n",
              "      <td>France</td>\n",
              "      <td>Female</td>\n",
              "      <td>42</td>\n",
              "      <td>8</td>\n",
              "      <td>159660.80</td>\n",
              "      <td>3</td>\n",
              "      <td>1</td>\n",
              "      <td>0</td>\n",
              "      <td>113931.57</td>\n",
              "      <td>1</td>\n",
              "    </tr>\n",
              "    <tr>\n",
              "      <th>3</th>\n",
              "      <td>4</td>\n",
              "      <td>15701354</td>\n",
              "      <td>Boni</td>\n",
              "      <td>699</td>\n",
              "      <td>France</td>\n",
              "      <td>Female</td>\n",
              "      <td>39</td>\n",
              "      <td>1</td>\n",
              "      <td>0.00</td>\n",
              "      <td>2</td>\n",
              "      <td>0</td>\n",
              "      <td>0</td>\n",
              "      <td>93826.63</td>\n",
              "      <td>0</td>\n",
              "    </tr>\n",
              "    <tr>\n",
              "      <th>4</th>\n",
              "      <td>5</td>\n",
              "      <td>15737888</td>\n",
              "      <td>Mitchell</td>\n",
              "      <td>850</td>\n",
              "      <td>Spain</td>\n",
              "      <td>Female</td>\n",
              "      <td>43</td>\n",
              "      <td>2</td>\n",
              "      <td>125510.82</td>\n",
              "      <td>1</td>\n",
              "      <td>1</td>\n",
              "      <td>1</td>\n",
              "      <td>79084.10</td>\n",
              "      <td>0</td>\n",
              "    </tr>\n",
              "  </tbody>\n",
              "</table>\n",
              "</div>"
            ],
            "text/plain": [
              "   RowNumber  CustomerId   Surname  ...  IsActiveMember EstimatedSalary Exited\n",
              "0          1    15634602  Hargrave  ...               1       101348.88      1\n",
              "1          2    15647311      Hill  ...               1       112542.58      0\n",
              "2          3    15619304      Onio  ...               0       113931.57      1\n",
              "3          4    15701354      Boni  ...               0        93826.63      0\n",
              "4          5    15737888  Mitchell  ...               1        79084.10      0\n",
              "\n",
              "[5 rows x 14 columns]"
            ]
          },
          "metadata": {
            "tags": []
          },
          "execution_count": 3
        }
      ]
    },
    {
      "cell_type": "code",
      "metadata": {
        "colab": {
          "base_uri": "https://localhost:8080/"
        },
        "id": "gYcmMPOv3arV",
        "outputId": "456bf641-aa38-4224-c77f-0fed94724067"
      },
      "source": [
        "dataset.shape"
      ],
      "execution_count": 4,
      "outputs": [
        {
          "output_type": "execute_result",
          "data": {
            "text/plain": [
              "(10000, 14)"
            ]
          },
          "metadata": {
            "tags": []
          },
          "execution_count": 4
        }
      ]
    },
    {
      "cell_type": "code",
      "metadata": {
        "id": "Y_4lSy2b3hUE"
      },
      "source": [
        "x=dataset.iloc[:,3:13]\r\n",
        "y=dataset.iloc[:,13]"
      ],
      "execution_count": 6,
      "outputs": []
    },
    {
      "cell_type": "code",
      "metadata": {
        "colab": {
          "base_uri": "https://localhost:8080/",
          "height": 204
        },
        "id": "QIJW1X9_3sFM",
        "outputId": "3a540616-d653-40ac-918e-a5e598a534f0"
      },
      "source": [
        "x.head()"
      ],
      "execution_count": 7,
      "outputs": [
        {
          "output_type": "execute_result",
          "data": {
            "text/html": [
              "<div>\n",
              "<style scoped>\n",
              "    .dataframe tbody tr th:only-of-type {\n",
              "        vertical-align: middle;\n",
              "    }\n",
              "\n",
              "    .dataframe tbody tr th {\n",
              "        vertical-align: top;\n",
              "    }\n",
              "\n",
              "    .dataframe thead th {\n",
              "        text-align: right;\n",
              "    }\n",
              "</style>\n",
              "<table border=\"1\" class=\"dataframe\">\n",
              "  <thead>\n",
              "    <tr style=\"text-align: right;\">\n",
              "      <th></th>\n",
              "      <th>CreditScore</th>\n",
              "      <th>Geography</th>\n",
              "      <th>Gender</th>\n",
              "      <th>Age</th>\n",
              "      <th>Tenure</th>\n",
              "      <th>Balance</th>\n",
              "      <th>NumOfProducts</th>\n",
              "      <th>HasCrCard</th>\n",
              "      <th>IsActiveMember</th>\n",
              "      <th>EstimatedSalary</th>\n",
              "    </tr>\n",
              "  </thead>\n",
              "  <tbody>\n",
              "    <tr>\n",
              "      <th>0</th>\n",
              "      <td>619</td>\n",
              "      <td>France</td>\n",
              "      <td>Female</td>\n",
              "      <td>42</td>\n",
              "      <td>2</td>\n",
              "      <td>0.00</td>\n",
              "      <td>1</td>\n",
              "      <td>1</td>\n",
              "      <td>1</td>\n",
              "      <td>101348.88</td>\n",
              "    </tr>\n",
              "    <tr>\n",
              "      <th>1</th>\n",
              "      <td>608</td>\n",
              "      <td>Spain</td>\n",
              "      <td>Female</td>\n",
              "      <td>41</td>\n",
              "      <td>1</td>\n",
              "      <td>83807.86</td>\n",
              "      <td>1</td>\n",
              "      <td>0</td>\n",
              "      <td>1</td>\n",
              "      <td>112542.58</td>\n",
              "    </tr>\n",
              "    <tr>\n",
              "      <th>2</th>\n",
              "      <td>502</td>\n",
              "      <td>France</td>\n",
              "      <td>Female</td>\n",
              "      <td>42</td>\n",
              "      <td>8</td>\n",
              "      <td>159660.80</td>\n",
              "      <td>3</td>\n",
              "      <td>1</td>\n",
              "      <td>0</td>\n",
              "      <td>113931.57</td>\n",
              "    </tr>\n",
              "    <tr>\n",
              "      <th>3</th>\n",
              "      <td>699</td>\n",
              "      <td>France</td>\n",
              "      <td>Female</td>\n",
              "      <td>39</td>\n",
              "      <td>1</td>\n",
              "      <td>0.00</td>\n",
              "      <td>2</td>\n",
              "      <td>0</td>\n",
              "      <td>0</td>\n",
              "      <td>93826.63</td>\n",
              "    </tr>\n",
              "    <tr>\n",
              "      <th>4</th>\n",
              "      <td>850</td>\n",
              "      <td>Spain</td>\n",
              "      <td>Female</td>\n",
              "      <td>43</td>\n",
              "      <td>2</td>\n",
              "      <td>125510.82</td>\n",
              "      <td>1</td>\n",
              "      <td>1</td>\n",
              "      <td>1</td>\n",
              "      <td>79084.10</td>\n",
              "    </tr>\n",
              "  </tbody>\n",
              "</table>\n",
              "</div>"
            ],
            "text/plain": [
              "   CreditScore Geography  Gender  ...  HasCrCard  IsActiveMember  EstimatedSalary\n",
              "0          619    France  Female  ...          1               1        101348.88\n",
              "1          608     Spain  Female  ...          0               1        112542.58\n",
              "2          502    France  Female  ...          1               0        113931.57\n",
              "3          699    France  Female  ...          0               0         93826.63\n",
              "4          850     Spain  Female  ...          1               1         79084.10\n",
              "\n",
              "[5 rows x 10 columns]"
            ]
          },
          "metadata": {
            "tags": []
          },
          "execution_count": 7
        }
      ]
    },
    {
      "cell_type": "code",
      "metadata": {
        "colab": {
          "base_uri": "https://localhost:8080/"
        },
        "id": "RJAFfbxi3ujL",
        "outputId": "aa4b7895-0146-4668-e194-06415a2b883d"
      },
      "source": [
        "y.head()"
      ],
      "execution_count": 8,
      "outputs": [
        {
          "output_type": "execute_result",
          "data": {
            "text/plain": [
              "0    1\n",
              "1    0\n",
              "2    1\n",
              "3    0\n",
              "4    0\n",
              "Name: Exited, dtype: int64"
            ]
          },
          "metadata": {
            "tags": []
          },
          "execution_count": 8
        }
      ]
    },
    {
      "cell_type": "code",
      "metadata": {
        "colab": {
          "base_uri": "https://localhost:8080/"
        },
        "id": "EuKveAC53xvb",
        "outputId": "1db5d84c-34d4-4680-ec30-78aa1ef511b8"
      },
      "source": [
        "dataset.isnull().sum()"
      ],
      "execution_count": 14,
      "outputs": [
        {
          "output_type": "execute_result",
          "data": {
            "text/plain": [
              "RowNumber          0\n",
              "CustomerId         0\n",
              "Surname            0\n",
              "CreditScore        0\n",
              "Geography          0\n",
              "Gender             0\n",
              "Age                0\n",
              "Tenure             0\n",
              "Balance            0\n",
              "NumOfProducts      0\n",
              "HasCrCard          0\n",
              "IsActiveMember     0\n",
              "EstimatedSalary    0\n",
              "Exited             0\n",
              "dtype: int64"
            ]
          },
          "metadata": {
            "tags": []
          },
          "execution_count": 14
        }
      ]
    },
    {
      "cell_type": "code",
      "metadata": {
        "id": "38g7HQNk4EGT"
      },
      "source": [
        "geo=pd.get_dummies(x['Geography'],drop_first=True)"
      ],
      "execution_count": 15,
      "outputs": []
    },
    {
      "cell_type": "code",
      "metadata": {
        "id": "YpcaP-gb4SVk"
      },
      "source": [
        "gen=pd.get_dummies(x['Gender'],drop_first=True)"
      ],
      "execution_count": 16,
      "outputs": []
    },
    {
      "cell_type": "code",
      "metadata": {
        "id": "EYVqId0j4XCt"
      },
      "source": [
        "x=pd.concat([x,geo,gen],axis=1)"
      ],
      "execution_count": 17,
      "outputs": []
    },
    {
      "cell_type": "code",
      "metadata": {
        "id": "mXPsFEuV4lHD"
      },
      "source": [
        "x=x.drop(['Geography','Gender'],axis=1)"
      ],
      "execution_count": 18,
      "outputs": []
    },
    {
      "cell_type": "code",
      "metadata": {
        "colab": {
          "base_uri": "https://localhost:8080/",
          "height": 204
        },
        "id": "UEug5XT05ljL",
        "outputId": "83f1b11e-728b-4989-b735-b292b877e307"
      },
      "source": [
        "x.head()"
      ],
      "execution_count": 21,
      "outputs": [
        {
          "output_type": "execute_result",
          "data": {
            "text/html": [
              "<div>\n",
              "<style scoped>\n",
              "    .dataframe tbody tr th:only-of-type {\n",
              "        vertical-align: middle;\n",
              "    }\n",
              "\n",
              "    .dataframe tbody tr th {\n",
              "        vertical-align: top;\n",
              "    }\n",
              "\n",
              "    .dataframe thead th {\n",
              "        text-align: right;\n",
              "    }\n",
              "</style>\n",
              "<table border=\"1\" class=\"dataframe\">\n",
              "  <thead>\n",
              "    <tr style=\"text-align: right;\">\n",
              "      <th></th>\n",
              "      <th>CreditScore</th>\n",
              "      <th>Age</th>\n",
              "      <th>Tenure</th>\n",
              "      <th>Balance</th>\n",
              "      <th>NumOfProducts</th>\n",
              "      <th>HasCrCard</th>\n",
              "      <th>IsActiveMember</th>\n",
              "      <th>EstimatedSalary</th>\n",
              "      <th>Germany</th>\n",
              "      <th>Spain</th>\n",
              "      <th>Male</th>\n",
              "    </tr>\n",
              "  </thead>\n",
              "  <tbody>\n",
              "    <tr>\n",
              "      <th>0</th>\n",
              "      <td>619</td>\n",
              "      <td>42</td>\n",
              "      <td>2</td>\n",
              "      <td>0.00</td>\n",
              "      <td>1</td>\n",
              "      <td>1</td>\n",
              "      <td>1</td>\n",
              "      <td>101348.88</td>\n",
              "      <td>0</td>\n",
              "      <td>0</td>\n",
              "      <td>0</td>\n",
              "    </tr>\n",
              "    <tr>\n",
              "      <th>1</th>\n",
              "      <td>608</td>\n",
              "      <td>41</td>\n",
              "      <td>1</td>\n",
              "      <td>83807.86</td>\n",
              "      <td>1</td>\n",
              "      <td>0</td>\n",
              "      <td>1</td>\n",
              "      <td>112542.58</td>\n",
              "      <td>0</td>\n",
              "      <td>1</td>\n",
              "      <td>0</td>\n",
              "    </tr>\n",
              "    <tr>\n",
              "      <th>2</th>\n",
              "      <td>502</td>\n",
              "      <td>42</td>\n",
              "      <td>8</td>\n",
              "      <td>159660.80</td>\n",
              "      <td>3</td>\n",
              "      <td>1</td>\n",
              "      <td>0</td>\n",
              "      <td>113931.57</td>\n",
              "      <td>0</td>\n",
              "      <td>0</td>\n",
              "      <td>0</td>\n",
              "    </tr>\n",
              "    <tr>\n",
              "      <th>3</th>\n",
              "      <td>699</td>\n",
              "      <td>39</td>\n",
              "      <td>1</td>\n",
              "      <td>0.00</td>\n",
              "      <td>2</td>\n",
              "      <td>0</td>\n",
              "      <td>0</td>\n",
              "      <td>93826.63</td>\n",
              "      <td>0</td>\n",
              "      <td>0</td>\n",
              "      <td>0</td>\n",
              "    </tr>\n",
              "    <tr>\n",
              "      <th>4</th>\n",
              "      <td>850</td>\n",
              "      <td>43</td>\n",
              "      <td>2</td>\n",
              "      <td>125510.82</td>\n",
              "      <td>1</td>\n",
              "      <td>1</td>\n",
              "      <td>1</td>\n",
              "      <td>79084.10</td>\n",
              "      <td>0</td>\n",
              "      <td>1</td>\n",
              "      <td>0</td>\n",
              "    </tr>\n",
              "  </tbody>\n",
              "</table>\n",
              "</div>"
            ],
            "text/plain": [
              "   CreditScore  Age  Tenure    Balance  ...  EstimatedSalary  Germany  Spain  Male\n",
              "0          619   42       2       0.00  ...        101348.88        0      0     0\n",
              "1          608   41       1   83807.86  ...        112542.58        0      1     0\n",
              "2          502   42       8  159660.80  ...        113931.57        0      0     0\n",
              "3          699   39       1       0.00  ...         93826.63        0      0     0\n",
              "4          850   43       2  125510.82  ...         79084.10        0      1     0\n",
              "\n",
              "[5 rows x 11 columns]"
            ]
          },
          "metadata": {
            "tags": []
          },
          "execution_count": 21
        }
      ]
    },
    {
      "cell_type": "markdown",
      "metadata": {
        "id": "blFIC8bP40OL"
      },
      "source": [
        "Training and Test Split\r\n"
      ]
    },
    {
      "cell_type": "code",
      "metadata": {
        "id": "hymBoB1k4vZr"
      },
      "source": [
        "from sklearn.model_selection import train_test_split"
      ],
      "execution_count": 20,
      "outputs": []
    },
    {
      "cell_type": "code",
      "metadata": {
        "id": "mJDMQDxn5fO9"
      },
      "source": [
        "\r\n",
        "X_train,X_test,Y_train,Y_test=train_test_split(x,y,test_size=0.20)"
      ],
      "execution_count": 22,
      "outputs": []
    },
    {
      "cell_type": "markdown",
      "metadata": {
        "id": "rTIrZk9o6eaT"
      },
      "source": [
        "Feature Scaling\r\n"
      ]
    },
    {
      "cell_type": "code",
      "metadata": {
        "id": "3pD1Tix25tPz"
      },
      "source": [
        "from sklearn.preprocessing import StandardScaler\r\n",
        "sc=StandardScaler()"
      ],
      "execution_count": 23,
      "outputs": []
    },
    {
      "cell_type": "code",
      "metadata": {
        "id": "DploG0uk6K9L"
      },
      "source": [
        "X_train=sc.fit_transform(X_train)\r\n",
        "X_test=sc.transform(X_test)"
      ],
      "execution_count": 24,
      "outputs": []
    },
    {
      "cell_type": "markdown",
      "metadata": {
        "id": "aKzeNu946vAz"
      },
      "source": [
        "Sequential and Dense Model\r\n"
      ]
    },
    {
      "cell_type": "code",
      "metadata": {
        "id": "mtG29j4c6h-M"
      },
      "source": [
        "import tensorflow.keras\r\n"
      ],
      "execution_count": 26,
      "outputs": []
    },
    {
      "cell_type": "code",
      "metadata": {
        "colab": {
          "base_uri": "https://localhost:8080/"
        },
        "id": "Bkuizr0z7lZ7",
        "outputId": "d6871e1a-3c68-425a-e2f6-409a88e3c6be"
      },
      "source": [
        "!pip install keras"
      ],
      "execution_count": 28,
      "outputs": [
        {
          "output_type": "stream",
          "text": [
            "Requirement already satisfied: keras in /usr/local/lib/python3.6/dist-packages (2.4.3)\n",
            "Requirement already satisfied: numpy>=1.9.1 in /usr/local/lib/python3.6/dist-packages (from keras) (1.19.4)\n",
            "Requirement already satisfied: h5py in /usr/local/lib/python3.6/dist-packages (from keras) (2.10.0)\n",
            "Requirement already satisfied: pyyaml in /usr/local/lib/python3.6/dist-packages (from keras) (3.13)\n",
            "Requirement already satisfied: scipy>=0.14 in /usr/local/lib/python3.6/dist-packages (from keras) (1.4.1)\n",
            "Requirement already satisfied: six in /usr/local/lib/python3.6/dist-packages (from h5py->keras) (1.15.0)\n"
          ],
          "name": "stdout"
        }
      ]
    },
    {
      "cell_type": "code",
      "metadata": {
        "id": "tQbF8O7M7-p7"
      },
      "source": [
        "from keras.models import Sequential\r\n",
        "from keras.layers import Dense\r\n",
        "from keras.layers import Dropout"
      ],
      "execution_count": 31,
      "outputs": []
    },
    {
      "cell_type": "code",
      "metadata": {
        "id": "4KorwdV_8OFq"
      },
      "source": [
        "classifier=Sequential()"
      ],
      "execution_count": 33,
      "outputs": []
    },
    {
      "cell_type": "code",
      "metadata": {
        "id": "q4bF5_Hd8XQ8"
      },
      "source": [
        "classifier.add(Dense(units=10,kernel_initializer='he_uniform',activation='relu',input_dim=11))"
      ],
      "execution_count": 36,
      "outputs": []
    },
    {
      "cell_type": "code",
      "metadata": {
        "id": "wR6J2Vd_9Cn-"
      },
      "source": [
        "classifier.add(Dense(units=10,kernel_initializer='he_uniform',activation='relu'))"
      ],
      "execution_count": 37,
      "outputs": []
    },
    {
      "cell_type": "code",
      "metadata": {
        "id": "CmVwg2Hy8Kmt"
      },
      "source": [
        "classifier.add(Dense(units=1,kernel_initializer='he_uniform',activation='sigmoid'))"
      ],
      "execution_count": 39,
      "outputs": []
    },
    {
      "cell_type": "code",
      "metadata": {
        "id": "ismgBUI19RWs"
      },
      "source": [
        "classifier.compile(optimizer='adam',loss='binary_crossentropy',metrics=['accuracy'])"
      ],
      "execution_count": 42,
      "outputs": []
    },
    {
      "cell_type": "code",
      "metadata": {
        "colab": {
          "base_uri": "https://localhost:8080/"
        },
        "id": "BdOPUnCS9q-F",
        "outputId": "be825d52-c4fc-4072-8718-fd3c72e48170"
      },
      "source": [
        "model=classifier.fit(X_train,Y_train,validation_split=0.33,batch_size=100,epochs=100)"
      ],
      "execution_count": 43,
      "outputs": [
        {
          "output_type": "stream",
          "text": [
            "Epoch 1/100\n",
            "54/54 [==============================] - 2s 6ms/step - loss: 0.5264 - accuracy: 0.7777 - val_loss: 0.4828 - val_accuracy: 0.8107\n",
            "Epoch 2/100\n",
            "54/54 [==============================] - 0s 3ms/step - loss: 0.4804 - accuracy: 0.7950 - val_loss: 0.4610 - val_accuracy: 0.8148\n",
            "Epoch 3/100\n",
            "54/54 [==============================] - 0s 3ms/step - loss: 0.4631 - accuracy: 0.8009 - val_loss: 0.4470 - val_accuracy: 0.8141\n",
            "Epoch 4/100\n",
            "54/54 [==============================] - 0s 3ms/step - loss: 0.4661 - accuracy: 0.7918 - val_loss: 0.4366 - val_accuracy: 0.8114\n",
            "Epoch 5/100\n",
            "54/54 [==============================] - 0s 3ms/step - loss: 0.4630 - accuracy: 0.7888 - val_loss: 0.4291 - val_accuracy: 0.8122\n",
            "Epoch 6/100\n",
            "54/54 [==============================] - 0s 3ms/step - loss: 0.4455 - accuracy: 0.8006 - val_loss: 0.4238 - val_accuracy: 0.8107\n",
            "Epoch 7/100\n",
            "54/54 [==============================] - 0s 3ms/step - loss: 0.4530 - accuracy: 0.7907 - val_loss: 0.4198 - val_accuracy: 0.8141\n",
            "Epoch 8/100\n",
            "54/54 [==============================] - 0s 3ms/step - loss: 0.4180 - accuracy: 0.8113 - val_loss: 0.4178 - val_accuracy: 0.8126\n",
            "Epoch 9/100\n",
            "54/54 [==============================] - 0s 3ms/step - loss: 0.4354 - accuracy: 0.8131 - val_loss: 0.4140 - val_accuracy: 0.8137\n",
            "Epoch 10/100\n",
            "54/54 [==============================] - 0s 4ms/step - loss: 0.4263 - accuracy: 0.8083 - val_loss: 0.4121 - val_accuracy: 0.8145\n",
            "Epoch 11/100\n",
            "54/54 [==============================] - 0s 3ms/step - loss: 0.4141 - accuracy: 0.8180 - val_loss: 0.4093 - val_accuracy: 0.8175\n",
            "Epoch 12/100\n",
            "54/54 [==============================] - 0s 3ms/step - loss: 0.4149 - accuracy: 0.8170 - val_loss: 0.4082 - val_accuracy: 0.8198\n",
            "Epoch 13/100\n",
            "54/54 [==============================] - 0s 4ms/step - loss: 0.4141 - accuracy: 0.8150 - val_loss: 0.4057 - val_accuracy: 0.8243\n",
            "Epoch 14/100\n",
            "54/54 [==============================] - 0s 4ms/step - loss: 0.4002 - accuracy: 0.8176 - val_loss: 0.4046 - val_accuracy: 0.8262\n",
            "Epoch 15/100\n",
            "54/54 [==============================] - 0s 4ms/step - loss: 0.4096 - accuracy: 0.8242 - val_loss: 0.4021 - val_accuracy: 0.8307\n",
            "Epoch 16/100\n",
            "54/54 [==============================] - 0s 4ms/step - loss: 0.4080 - accuracy: 0.8264 - val_loss: 0.4000 - val_accuracy: 0.8304\n",
            "Epoch 17/100\n",
            "54/54 [==============================] - 0s 3ms/step - loss: 0.3967 - accuracy: 0.8317 - val_loss: 0.3977 - val_accuracy: 0.8334\n",
            "Epoch 18/100\n",
            "54/54 [==============================] - 0s 3ms/step - loss: 0.3870 - accuracy: 0.8366 - val_loss: 0.3958 - val_accuracy: 0.8376\n",
            "Epoch 19/100\n",
            "54/54 [==============================] - 0s 3ms/step - loss: 0.3856 - accuracy: 0.8423 - val_loss: 0.3940 - val_accuracy: 0.8376\n",
            "Epoch 20/100\n",
            "54/54 [==============================] - 0s 4ms/step - loss: 0.3855 - accuracy: 0.8410 - val_loss: 0.3909 - val_accuracy: 0.8368\n",
            "Epoch 21/100\n",
            "54/54 [==============================] - 0s 3ms/step - loss: 0.3866 - accuracy: 0.8412 - val_loss: 0.3880 - val_accuracy: 0.8383\n",
            "Epoch 22/100\n",
            "54/54 [==============================] - 0s 3ms/step - loss: 0.3872 - accuracy: 0.8446 - val_loss: 0.3854 - val_accuracy: 0.8379\n",
            "Epoch 23/100\n",
            "54/54 [==============================] - 0s 3ms/step - loss: 0.3894 - accuracy: 0.8425 - val_loss: 0.3825 - val_accuracy: 0.8421\n",
            "Epoch 24/100\n",
            "54/54 [==============================] - 0s 3ms/step - loss: 0.3811 - accuracy: 0.8417 - val_loss: 0.3796 - val_accuracy: 0.8455\n",
            "Epoch 25/100\n",
            "54/54 [==============================] - 0s 3ms/step - loss: 0.3664 - accuracy: 0.8501 - val_loss: 0.3769 - val_accuracy: 0.8485\n",
            "Epoch 26/100\n",
            "54/54 [==============================] - 0s 4ms/step - loss: 0.3556 - accuracy: 0.8555 - val_loss: 0.3736 - val_accuracy: 0.8489\n",
            "Epoch 27/100\n",
            "54/54 [==============================] - 0s 4ms/step - loss: 0.3702 - accuracy: 0.8457 - val_loss: 0.3706 - val_accuracy: 0.8497\n",
            "Epoch 28/100\n",
            "54/54 [==============================] - 0s 3ms/step - loss: 0.3574 - accuracy: 0.8484 - val_loss: 0.3690 - val_accuracy: 0.8485\n",
            "Epoch 29/100\n",
            "54/54 [==============================] - 0s 6ms/step - loss: 0.3673 - accuracy: 0.8466 - val_loss: 0.3657 - val_accuracy: 0.8497\n",
            "Epoch 30/100\n",
            "54/54 [==============================] - 0s 4ms/step - loss: 0.3436 - accuracy: 0.8609 - val_loss: 0.3653 - val_accuracy: 0.8508\n",
            "Epoch 31/100\n",
            "54/54 [==============================] - 0s 4ms/step - loss: 0.3394 - accuracy: 0.8642 - val_loss: 0.3627 - val_accuracy: 0.8512\n",
            "Epoch 32/100\n",
            "54/54 [==============================] - 0s 4ms/step - loss: 0.3518 - accuracy: 0.8562 - val_loss: 0.3594 - val_accuracy: 0.8554\n",
            "Epoch 33/100\n",
            "54/54 [==============================] - 0s 4ms/step - loss: 0.3464 - accuracy: 0.8550 - val_loss: 0.3581 - val_accuracy: 0.8565\n",
            "Epoch 34/100\n",
            "54/54 [==============================] - 0s 4ms/step - loss: 0.3505 - accuracy: 0.8598 - val_loss: 0.3557 - val_accuracy: 0.8588\n",
            "Epoch 35/100\n",
            "54/54 [==============================] - 0s 4ms/step - loss: 0.3612 - accuracy: 0.8481 - val_loss: 0.3539 - val_accuracy: 0.8599\n",
            "Epoch 36/100\n",
            "54/54 [==============================] - 0s 4ms/step - loss: 0.3457 - accuracy: 0.8554 - val_loss: 0.3533 - val_accuracy: 0.8584\n",
            "Epoch 37/100\n",
            "54/54 [==============================] - 0s 4ms/step - loss: 0.3363 - accuracy: 0.8620 - val_loss: 0.3525 - val_accuracy: 0.8599\n",
            "Epoch 38/100\n",
            "54/54 [==============================] - 0s 4ms/step - loss: 0.3369 - accuracy: 0.8624 - val_loss: 0.3525 - val_accuracy: 0.8580\n",
            "Epoch 39/100\n",
            "54/54 [==============================] - 0s 4ms/step - loss: 0.3329 - accuracy: 0.8617 - val_loss: 0.3515 - val_accuracy: 0.8595\n",
            "Epoch 40/100\n",
            "54/54 [==============================] - 0s 4ms/step - loss: 0.3427 - accuracy: 0.8584 - val_loss: 0.3496 - val_accuracy: 0.8595\n",
            "Epoch 41/100\n",
            "54/54 [==============================] - 0s 4ms/step - loss: 0.3444 - accuracy: 0.8551 - val_loss: 0.3494 - val_accuracy: 0.8603\n",
            "Epoch 42/100\n",
            "54/54 [==============================] - 0s 4ms/step - loss: 0.3425 - accuracy: 0.8537 - val_loss: 0.3492 - val_accuracy: 0.8591\n",
            "Epoch 43/100\n",
            "54/54 [==============================] - 0s 4ms/step - loss: 0.3310 - accuracy: 0.8644 - val_loss: 0.3482 - val_accuracy: 0.8607\n",
            "Epoch 44/100\n",
            "54/54 [==============================] - 0s 4ms/step - loss: 0.3428 - accuracy: 0.8537 - val_loss: 0.3480 - val_accuracy: 0.8607\n",
            "Epoch 45/100\n",
            "54/54 [==============================] - 0s 4ms/step - loss: 0.3299 - accuracy: 0.8655 - val_loss: 0.3479 - val_accuracy: 0.8610\n",
            "Epoch 46/100\n",
            "54/54 [==============================] - 0s 4ms/step - loss: 0.3302 - accuracy: 0.8646 - val_loss: 0.3477 - val_accuracy: 0.8626\n",
            "Epoch 47/100\n",
            "54/54 [==============================] - 0s 4ms/step - loss: 0.3396 - accuracy: 0.8619 - val_loss: 0.3487 - val_accuracy: 0.8591\n",
            "Epoch 48/100\n",
            "54/54 [==============================] - 0s 4ms/step - loss: 0.3502 - accuracy: 0.8566 - val_loss: 0.3471 - val_accuracy: 0.8626\n",
            "Epoch 49/100\n",
            "54/54 [==============================] - 0s 4ms/step - loss: 0.3296 - accuracy: 0.8621 - val_loss: 0.3476 - val_accuracy: 0.8595\n",
            "Epoch 50/100\n",
            "54/54 [==============================] - 0s 4ms/step - loss: 0.3274 - accuracy: 0.8634 - val_loss: 0.3477 - val_accuracy: 0.8603\n",
            "Epoch 51/100\n",
            "54/54 [==============================] - 0s 4ms/step - loss: 0.3404 - accuracy: 0.8575 - val_loss: 0.3463 - val_accuracy: 0.8629\n",
            "Epoch 52/100\n",
            "54/54 [==============================] - 0s 4ms/step - loss: 0.3241 - accuracy: 0.8712 - val_loss: 0.3468 - val_accuracy: 0.8607\n",
            "Epoch 53/100\n",
            "54/54 [==============================] - 0s 4ms/step - loss: 0.3311 - accuracy: 0.8585 - val_loss: 0.3467 - val_accuracy: 0.8614\n",
            "Epoch 54/100\n",
            "54/54 [==============================] - 0s 4ms/step - loss: 0.3198 - accuracy: 0.8692 - val_loss: 0.3470 - val_accuracy: 0.8607\n",
            "Epoch 55/100\n",
            "54/54 [==============================] - 0s 4ms/step - loss: 0.3280 - accuracy: 0.8615 - val_loss: 0.3464 - val_accuracy: 0.8607\n",
            "Epoch 56/100\n",
            "54/54 [==============================] - 0s 4ms/step - loss: 0.3250 - accuracy: 0.8664 - val_loss: 0.3450 - val_accuracy: 0.8652\n",
            "Epoch 57/100\n",
            "54/54 [==============================] - 0s 4ms/step - loss: 0.3217 - accuracy: 0.8678 - val_loss: 0.3461 - val_accuracy: 0.8610\n",
            "Epoch 58/100\n",
            "54/54 [==============================] - 0s 4ms/step - loss: 0.3261 - accuracy: 0.8704 - val_loss: 0.3457 - val_accuracy: 0.8610\n",
            "Epoch 59/100\n",
            "54/54 [==============================] - 0s 4ms/step - loss: 0.3219 - accuracy: 0.8691 - val_loss: 0.3461 - val_accuracy: 0.8591\n",
            "Epoch 60/100\n",
            "54/54 [==============================] - 0s 4ms/step - loss: 0.3255 - accuracy: 0.8652 - val_loss: 0.3453 - val_accuracy: 0.8610\n",
            "Epoch 61/100\n",
            "54/54 [==============================] - 0s 4ms/step - loss: 0.3170 - accuracy: 0.8666 - val_loss: 0.3462 - val_accuracy: 0.8580\n",
            "Epoch 62/100\n",
            "54/54 [==============================] - 0s 4ms/step - loss: 0.3294 - accuracy: 0.8699 - val_loss: 0.3454 - val_accuracy: 0.8603\n",
            "Epoch 63/100\n",
            "54/54 [==============================] - 0s 4ms/step - loss: 0.3249 - accuracy: 0.8714 - val_loss: 0.3455 - val_accuracy: 0.8622\n",
            "Epoch 64/100\n",
            "54/54 [==============================] - 0s 4ms/step - loss: 0.3219 - accuracy: 0.8635 - val_loss: 0.3464 - val_accuracy: 0.8573\n",
            "Epoch 65/100\n",
            "54/54 [==============================] - 0s 4ms/step - loss: 0.3281 - accuracy: 0.8654 - val_loss: 0.3459 - val_accuracy: 0.8584\n",
            "Epoch 66/100\n",
            "54/54 [==============================] - 0s 4ms/step - loss: 0.3169 - accuracy: 0.8748 - val_loss: 0.3457 - val_accuracy: 0.8584\n",
            "Epoch 67/100\n",
            "54/54 [==============================] - 0s 4ms/step - loss: 0.3302 - accuracy: 0.8643 - val_loss: 0.3456 - val_accuracy: 0.8588\n",
            "Epoch 68/100\n",
            "54/54 [==============================] - 0s 4ms/step - loss: 0.3156 - accuracy: 0.8778 - val_loss: 0.3463 - val_accuracy: 0.8569\n",
            "Epoch 69/100\n",
            "54/54 [==============================] - 0s 4ms/step - loss: 0.3223 - accuracy: 0.8676 - val_loss: 0.3462 - val_accuracy: 0.8561\n",
            "Epoch 70/100\n",
            "54/54 [==============================] - 0s 4ms/step - loss: 0.3169 - accuracy: 0.8719 - val_loss: 0.3458 - val_accuracy: 0.8576\n",
            "Epoch 71/100\n",
            "54/54 [==============================] - 0s 4ms/step - loss: 0.3285 - accuracy: 0.8663 - val_loss: 0.3455 - val_accuracy: 0.8584\n",
            "Epoch 72/100\n",
            "54/54 [==============================] - 0s 4ms/step - loss: 0.3273 - accuracy: 0.8671 - val_loss: 0.3457 - val_accuracy: 0.8576\n",
            "Epoch 73/100\n",
            "54/54 [==============================] - 0s 4ms/step - loss: 0.3136 - accuracy: 0.8706 - val_loss: 0.3452 - val_accuracy: 0.8599\n",
            "Epoch 74/100\n",
            "54/54 [==============================] - 0s 6ms/step - loss: 0.3259 - accuracy: 0.8667 - val_loss: 0.3453 - val_accuracy: 0.8614\n",
            "Epoch 75/100\n",
            "54/54 [==============================] - 0s 4ms/step - loss: 0.3288 - accuracy: 0.8646 - val_loss: 0.3454 - val_accuracy: 0.8599\n",
            "Epoch 76/100\n",
            "54/54 [==============================] - 0s 4ms/step - loss: 0.3259 - accuracy: 0.8636 - val_loss: 0.3455 - val_accuracy: 0.8595\n",
            "Epoch 77/100\n",
            "54/54 [==============================] - 0s 4ms/step - loss: 0.3207 - accuracy: 0.8713 - val_loss: 0.3459 - val_accuracy: 0.8584\n",
            "Epoch 78/100\n",
            "54/54 [==============================] - 0s 4ms/step - loss: 0.3182 - accuracy: 0.8682 - val_loss: 0.3457 - val_accuracy: 0.8595\n",
            "Epoch 79/100\n",
            "54/54 [==============================] - 0s 4ms/step - loss: 0.3355 - accuracy: 0.8622 - val_loss: 0.3459 - val_accuracy: 0.8584\n",
            "Epoch 80/100\n",
            "54/54 [==============================] - 0s 4ms/step - loss: 0.3225 - accuracy: 0.8710 - val_loss: 0.3472 - val_accuracy: 0.8576\n",
            "Epoch 81/100\n",
            "54/54 [==============================] - 0s 4ms/step - loss: 0.3258 - accuracy: 0.8714 - val_loss: 0.3454 - val_accuracy: 0.8603\n",
            "Epoch 82/100\n",
            "54/54 [==============================] - 0s 4ms/step - loss: 0.3194 - accuracy: 0.8741 - val_loss: 0.3458 - val_accuracy: 0.8588\n",
            "Epoch 83/100\n",
            "54/54 [==============================] - 0s 4ms/step - loss: 0.3160 - accuracy: 0.8704 - val_loss: 0.3467 - val_accuracy: 0.8573\n",
            "Epoch 84/100\n",
            "54/54 [==============================] - 0s 4ms/step - loss: 0.3202 - accuracy: 0.8729 - val_loss: 0.3458 - val_accuracy: 0.8603\n",
            "Epoch 85/100\n",
            "54/54 [==============================] - 0s 4ms/step - loss: 0.3195 - accuracy: 0.8688 - val_loss: 0.3457 - val_accuracy: 0.8603\n",
            "Epoch 86/100\n",
            "54/54 [==============================] - 0s 3ms/step - loss: 0.3135 - accuracy: 0.8740 - val_loss: 0.3476 - val_accuracy: 0.8561\n",
            "Epoch 87/100\n",
            "54/54 [==============================] - 0s 4ms/step - loss: 0.3299 - accuracy: 0.8647 - val_loss: 0.3461 - val_accuracy: 0.8603\n",
            "Epoch 88/100\n",
            "54/54 [==============================] - 0s 4ms/step - loss: 0.3044 - accuracy: 0.8739 - val_loss: 0.3461 - val_accuracy: 0.8599\n",
            "Epoch 89/100\n",
            "54/54 [==============================] - 0s 4ms/step - loss: 0.3234 - accuracy: 0.8655 - val_loss: 0.3474 - val_accuracy: 0.8576\n",
            "Epoch 90/100\n",
            "54/54 [==============================] - 0s 4ms/step - loss: 0.3098 - accuracy: 0.8735 - val_loss: 0.3473 - val_accuracy: 0.8573\n",
            "Epoch 91/100\n",
            "54/54 [==============================] - 0s 3ms/step - loss: 0.3186 - accuracy: 0.8687 - val_loss: 0.3464 - val_accuracy: 0.8576\n",
            "Epoch 92/100\n",
            "54/54 [==============================] - 0s 4ms/step - loss: 0.3200 - accuracy: 0.8688 - val_loss: 0.3462 - val_accuracy: 0.8569\n",
            "Epoch 93/100\n",
            "54/54 [==============================] - 0s 4ms/step - loss: 0.3119 - accuracy: 0.8740 - val_loss: 0.3475 - val_accuracy: 0.8557\n",
            "Epoch 94/100\n",
            "54/54 [==============================] - 0s 3ms/step - loss: 0.3280 - accuracy: 0.8637 - val_loss: 0.3455 - val_accuracy: 0.8618\n",
            "Epoch 95/100\n",
            "54/54 [==============================] - 0s 3ms/step - loss: 0.3160 - accuracy: 0.8689 - val_loss: 0.3465 - val_accuracy: 0.8557\n",
            "Epoch 96/100\n",
            "54/54 [==============================] - 0s 4ms/step - loss: 0.3164 - accuracy: 0.8665 - val_loss: 0.3463 - val_accuracy: 0.8557\n",
            "Epoch 97/100\n",
            "54/54 [==============================] - 0s 4ms/step - loss: 0.3284 - accuracy: 0.8672 - val_loss: 0.3463 - val_accuracy: 0.8565\n",
            "Epoch 98/100\n",
            "54/54 [==============================] - 0s 3ms/step - loss: 0.3176 - accuracy: 0.8669 - val_loss: 0.3460 - val_accuracy: 0.8595\n",
            "Epoch 99/100\n",
            "54/54 [==============================] - 0s 4ms/step - loss: 0.3197 - accuracy: 0.8699 - val_loss: 0.3469 - val_accuracy: 0.8561\n",
            "Epoch 100/100\n",
            "54/54 [==============================] - 0s 4ms/step - loss: 0.3133 - accuracy: 0.8686 - val_loss: 0.3479 - val_accuracy: 0.8554\n"
          ],
          "name": "stdout"
        }
      ]
    },
    {
      "cell_type": "code",
      "metadata": {
        "colab": {
          "base_uri": "https://localhost:8080/"
        },
        "id": "dPfgPlRSBXDD",
        "outputId": "3e0bbb53-1983-45b9-80d5-6b74f6bc5b9b"
      },
      "source": [
        "model.history.keys()"
      ],
      "execution_count": 44,
      "outputs": [
        {
          "output_type": "execute_result",
          "data": {
            "text/plain": [
              "dict_keys(['loss', 'accuracy', 'val_loss', 'val_accuracy'])"
            ]
          },
          "metadata": {
            "tags": []
          },
          "execution_count": 44
        }
      ]
    },
    {
      "cell_type": "code",
      "metadata": {
        "colab": {
          "base_uri": "https://localhost:8080/",
          "height": 295
        },
        "id": "GlqsMi5xFkrj",
        "outputId": "e804905d-b371-410b-ef93-d6581a70daba"
      },
      "source": [
        "plt.plot(model.history['accuracy'])\r\n",
        "plt.plot(model.history['val_accuracy'])\r\n",
        "plt.title('model_accuracy')\r\n",
        "plt.ylabel('accuracy')\r\n",
        "plt.xlabel('epoch')\r\n",
        "plt.legend(['train','test'],loc='upper left')\r\n",
        "plt.show()"
      ],
      "execution_count": 48,
      "outputs": [
        {
          "output_type": "display_data",
          "data": {
            "image/png": "[encoded data removed]",
            "text/plain": [
              "<Figure size 432x288 with 1 Axes>"
            ]
          },
          "metadata": {
            "tags": [],
            "needs_background": "light"
          }
        }
      ]
    },
    {
      "cell_type": "code",
      "metadata": {
        "colab": {
          "base_uri": "https://localhost:8080/",
          "height": 295
        },
        "id": "ujWh4MN1KH9q",
        "outputId": "1392acae-4e49-4bb0-9395-e5fe341e3232"
      },
      "source": [
        "plt.plot(model.history['loss'])\r\n",
        "plt.plot(model.history['val_loss'])\r\n",
        "plt.title('model_loss')\r\n",
        "plt.ylabel('loss')\r\n",
        "plt.xlabel('epoch')\r\n",
        "plt.legend(['train','test'],loc='upper left')\r\n",
        "plt.show()"
      ],
      "execution_count": 49,
      "outputs": [
        {
          "output_type": "display_data",
          "data": {
            "image/png": "[encoded data removed]",
            "text/plain": [
              "<Figure size 432x288 with 1 Axes>"
            ]
          },
          "metadata": {
            "tags": [],
            "needs_background": "light"
          }
        }
      ]
    },
    {
      "cell_type": "code",
      "metadata": {
        "id": "NihEKp8GKYK4"
      },
      "source": [
        "y_pred=classifier.predict(X_test)\r\n"
      ],
      "execution_count": 51,
      "outputs": []
    },
    {
      "cell_type": "code",
      "metadata": {
        "colab": {
          "base_uri": "https://localhost:8080/"
        },
        "id": "vlFdsl8ZMu12",
        "outputId": "2dd5b5b3-8c56-46bd-94a6-e7d5fbbddaea"
      },
      "source": [
        "y_pred"
      ],
      "execution_count": 52,
      "outputs": [
        {
          "output_type": "execute_result",
          "data": {
            "text/plain": [
              "array([[0.05821121],\n",
              "       [0.63359964],\n",
              "       [0.24915375],\n",
              "       ...,\n",
              "       [0.9374591 ],\n",
              "       [0.35395053],\n",
              "       [0.87589467]], dtype=float32)"
            ]
          },
          "metadata": {
            "tags": []
          },
          "execution_count": 52
        }
      ]
    },
    {
      "cell_type": "code",
      "metadata": {
        "id": "1Gpom7A7OL6x"
      },
      "source": [
        "y_pred = (y_pred > 0.5)"
      ],
      "execution_count": 62,
      "outputs": []
    },
    {
      "cell_type": "code",
      "metadata": {
        "colab": {
          "base_uri": "https://localhost:8080/"
        },
        "id": "UxJL6baaONGq",
        "outputId": "3f702e3f-9d45-4574-c0d9-2c3b85bdb273"
      },
      "source": [
        "y_pred"
      ],
      "execution_count": 64,
      "outputs": [
        {
          "output_type": "execute_result",
          "data": {
            "text/plain": [
              "array([[False],\n",
              "       [ True],\n",
              "       [False],\n",
              "       ...,\n",
              "       [ True],\n",
              "       [False],\n",
              "       [ True]])"
            ]
          },
          "metadata": {
            "tags": []
          },
          "execution_count": 64
        }
      ]
    },
    {
      "cell_type": "code",
      "metadata": {
        "id": "OcOixP_0M9eH"
      },
      "source": [
        "from sklearn.metrics import confusion_matrix\r\n",
        "from sklearn.metrics import accuracy_score"
      ],
      "execution_count": 59,
      "outputs": []
    },
    {
      "cell_type": "code",
      "metadata": {
        "id": "YtnX_hn0Ncth"
      },
      "source": [
        "cm=confusion_matrix(Y_test,y_pred)"
      ],
      "execution_count": 65,
      "outputs": []
    },
    {
      "cell_type": "code",
      "metadata": {
        "colab": {
          "base_uri": "https://localhost:8080/"
        },
        "id": "psGDs1qdOUqc",
        "outputId": "59af58fd-c23f-431d-d535-f8d569d09be3"
      },
      "source": [
        "cm"
      ],
      "execution_count": 66,
      "outputs": [
        {
          "output_type": "execute_result",
          "data": {
            "text/plain": [
              "array([[1469,   92],\n",
              "       [ 218,  221]])"
            ]
          },
          "metadata": {
            "tags": []
          },
          "execution_count": 66
        }
      ]
    },
    {
      "cell_type": "code",
      "metadata": {
        "id": "8kL1gHA7OXWK"
      },
      "source": [
        "score=accuracy_score(Y_test,y_pred)"
      ],
      "execution_count": 67,
      "outputs": []
    },
    {
      "cell_type": "code",
      "metadata": {
        "colab": {
          "base_uri": "https://localhost:8080/"
        },
        "id": "V5C1Sc_nOdez",
        "outputId": "487ed3f3-3c12-417b-a3ad-c8f0f75132df"
      },
      "source": [
        "score"
      ],
      "execution_count": 68,
      "outputs": [
        {
          "output_type": "execute_result",
          "data": {
            "text/plain": [
              "0.845"
            ]
          },
          "metadata": {
            "tags": []
          },
          "execution_count": 68
        }
      ]
    }
  ]
}